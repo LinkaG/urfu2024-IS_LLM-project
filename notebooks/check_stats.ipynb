{
 "cells": [
  {
   "cell_type": "code",
   "execution_count": null,
   "id": "98394e19-f830-4f93-a226-b7d9d5af209f",
   "metadata": {},
   "outputs": [],
   "source": [
    "import os\n",
    "import json"
   ]
  },
  {
   "cell_type": "code",
   "execution_count": null,
   "id": "d8fba22f-3f38-490f-a54a-64fdc7f64596",
   "metadata": {},
   "outputs": [],
   "source": [
    "# Path to the data folder\n",
    "data_folder = '../data/collected_generated_text'"
   ]
  },
  {
   "cell_type": "code",
   "execution_count": null,
   "id": "41b3307c-a857-4d5a-973d-6aa4c0691821",
   "metadata": {
    "scrolled": true
   },
   "outputs": [],
   "source": [
    "# Check if the data folder exists\n",
    "if os.path.exists(data_folder) and os.path.isdir(data_folder):\n",
    "    # Get a list of files in a folder\n",
    "    files = os.listdir(data_folder)\n",
    "    \n",
    "    # Through each JSON file\n",
    "    for file_name in files:\n",
    "        print(f\"File processing: {file_name}:\")\n",
    "        \n",
    "        if file_name.endswith('.json'):\n",
    "            file_path = os.path.join(data_folder, file_name)\n",
    "            try:\n",
    "                with open(file_path, 'r', encoding='utf-8') as file:\n",
    "                    try:\n",
    "                        data = json.load(file)\n",
    "\n",
    "                        total_rows = len(data)\n",
    "\n",
    "                        correct_predictions_binary_classification = 0\n",
    "                        correct_predictions_multiclass = 0\n",
    "                        \n",
    "                        for index, item in enumerate(data, 1):  # Through each element of the list\n",
    "                            if 'Expected CWE ID:' in item:expected_cwe_id = item['Expected CWE ID:']\n",
    "                            if 'generated_text' in item: generated_text = item['generated_text']\n",
    "                            if 'vulnerability: YES' in generated_text:\n",
    "                                correct_predictions_binary_classification += 1\n",
    "                                if any(f'vulnerability type: {expected_cwe_id}{punct}' in generated_text for punct in [',', '.', '!', '?', ':', ';', ' ', '\\n']):\n",
    "                                    correct_predictions_multiclass += 1\n",
    "                                    \n",
    "                        accuracy_binary_classification = (correct_predictions_binary_classification / total_rows) * 100\n",
    "                        print(f\"Accuracy of binary classification results: {accuracy_binary_classification:.2f}%/100%\")\n",
    "                        \n",
    "                        accuracy_multiclass = (correct_predictions_multiclass / total_rows) * 100\n",
    "                        print(f\"Multiclass partition accuracy: {accuracy_multiclass:.2f}%/100%\")\n",
    "\n",
    "                        print(f\"Processed samples: {len(data)}\")\n",
    "                    \n",
    "                    except Exception as e:\n",
    "                        print(f\"Error processing file {file_name}: {e}\")\n",
    "            except Exception as e:\n",
    "                print(f\"Error opening file {file_name}: {e}\")\n",
    "else:\n",
    "    print(f\"Folder {data_folder} does not exist or is not a directory\")"
   ]
  }
 ],
 "metadata": {
  "kernelspec": {
   "display_name": "Python 3 (ipykernel)",
   "language": "python",
   "name": "python3"
  },
  "language_info": {
   "codemirror_mode": {
    "name": "ipython",
    "version": 3
   },
   "file_extension": ".py",
   "mimetype": "text/x-python",
   "name": "python",
   "nbconvert_exporter": "python",
   "pygments_lexer": "ipython3",
   "version": "3.10.11"
  }
 },
 "nbformat": 4,
 "nbformat_minor": 5
}
