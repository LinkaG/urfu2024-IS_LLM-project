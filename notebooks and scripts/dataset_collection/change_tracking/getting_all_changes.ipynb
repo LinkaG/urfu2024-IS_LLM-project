{
 "cells": [
  {
   "cell_type": "markdown",
   "id": "6d809583",
   "metadata": {},
   "source": [
    "# File paths and custom names"
   ]
  },
  {
   "cell_type": "markdown",
   "id": "eb353233",
   "metadata": {},
   "source": [
    "- PATH_REPOSITORY — Path to the cloned repository from where commits will be taken.\n",
    "- HASH_LIST_FILE — Path to a text file with commit hashes fetched using [this script (msg_analyzer)](../commit_msg_analyzer/msg_analyzer.ipynb).\n",
    "- OUTPUT_PATH — The name of the directory in which the result of this script will be saved.\n",
    "- FILE_EXTENSION_FILTER — File extensions that will be taken into account when parsing by this script."
   ]
  },
  {
   "cell_type": "code",
   "execution_count": null,
   "id": "04420077-d6d0-470f-8f3a-ae1277bc9a4e",
   "metadata": {},
   "outputs": [],
   "source": [
    "PATH_TO_THE_REPOSITORY_BEING_ANALYSED = r\"../commit_msg_analyzer/repo\"\n",
    "HASH_LIST_FILE = r\"../commit_msg_analyzer/result/20240524_elasticsearch_commit_only.txt\"\n",
    "OUTPUT_PATH = \"result_hash_pairs\"\n",
    "FILE_EXTENSION_FILTER = [\".java\"]"
   ]
  },
  {
   "cell_type": "markdown",
   "id": "c3d1487c",
   "metadata": {},
   "source": [
    "# Installing the required libraries"
   ]
  },
  {
   "cell_type": "code",
   "execution_count": null,
   "id": "06ec23ae",
   "metadata": {},
   "outputs": [],
   "source": [
    "!pip install --upgrade pip\n",
    "!pip install --upgrade tqdm\n",
    "!pip install --upgrade python-git\n",
    "!pip install --upgrade pytest-shutil"
   ]
  },
  {
   "cell_type": "markdown",
   "id": "c06782f0",
   "metadata": {},
   "source": [
    "# Importing libraries"
   ]
  },
  {
   "cell_type": "code",
   "execution_count": null,
   "id": "51e3c283-172a-4b91-83b6-48b390c74eb5",
   "metadata": {},
   "outputs": [],
   "source": [
    "import os\n",
    "import git\n",
    "import shutil\n",
    "from tqdm import tqdm"
   ]
  },
  {
   "cell_type": "markdown",
   "id": "d2b53267",
   "metadata": {},
   "source": [
    "# Presetting"
   ]
  },
  {
   "cell_type": "code",
   "execution_count": null,
   "id": "fb1130f3",
   "metadata": {},
   "outputs": [],
   "source": [
    "# Create an output directory if it doesn't exist\n",
    "if not os.path.exists(PATH_TO_THE_REPOSITORY_BEING_ANALYSED):\n",
    "    os.makedirs(PATH_TO_THE_REPOSITORY_BEING_ANALYSED)"
   ]
  },
  {
   "cell_type": "code",
   "execution_count": null,
   "id": "5845225c",
   "metadata": {},
   "outputs": [],
   "source": [
    "# Read the list of hashes from the file\n",
    "with open(HASH_LIST_FILE, 'r') as f:\n",
    "    hash_list_array = [line.strip() for line in f.readlines()]"
   ]
  },
  {
   "cell_type": "code",
   "execution_count": null,
   "id": "d1d4964b",
   "metadata": {},
   "outputs": [],
   "source": [
    "repo = git.Repo(PATH_TO_THE_REPOSITORY_BEING_ANALYSED)"
   ]
  },
  {
   "cell_type": "code",
   "execution_count": null,
   "id": "af033885",
   "metadata": {},
   "outputs": [],
   "source": [
    "# Create a DataFrame to store commit information\n",
    "columns = ['hash', 'file', 'change_type', 'new_file']"
   ]
  },
  {
   "cell_type": "code",
   "execution_count": null,
   "id": "4bf301d2",
   "metadata": {},
   "outputs": [],
   "source": [
    "# Function to save file contents\n",
    "def save_file_content(commit, filepath, output_dir):\n",
    "    try:\n",
    "        blob = commit.tree / filepath\n",
    "        file_output_path = os.path.join(output_dir, filepath)\n",
    "        os.makedirs(os.path.dirname(file_output_path), exist_ok=True)\n",
    "        with open(file_output_path, 'wb') as f:\n",
    "            f.write(blob.data_stream.read())\n",
    "        return True\n",
    "    except Exception as e:\n",
    "        print(f\"Error saving file {filepath} from commit {commit.hexsha}: {e}\")\n",
    "        return False"
   ]
  },
  {
   "cell_type": "code",
   "execution_count": null,
   "id": "cbdbf777",
   "metadata": {},
   "outputs": [],
   "source": [
    "# Function to check file extension\n",
    "def has_valid_extension(filepath):\n",
    "    return any(filepath.endswith(ext) for ext in FILE_EXTENSION_FILTER)"
   ]
  },
  {
   "cell_type": "markdown",
   "id": "2fc2f380",
   "metadata": {},
   "source": [
    "# Main part"
   ]
  },
  {
   "cell_type": "code",
   "execution_count": null,
   "id": "e1a85f0e",
   "metadata": {},
   "outputs": [],
   "source": [
    "for currhash in tqdm(hash_list_array, total=len(hash_list_array), desc=\"Processing:\", ascii=True):\n",
    "    print(f\"Processing hash: {currhash}\")\n",
    "    try:\n",
    "        commit = repo.commit(currhash)\n",
    "        parent_commit = commit.parents[0] if commit.parents else None\n",
    "\n",
    "        commit_output_path = os.path.join(OUTPUT_PATH, currhash)\n",
    "        prev_output_path = os.path.join(commit_output_path, 'prev')\n",
    "        curr_output_path = os.path.join(commit_output_path, 'curr')\n",
    "        os.makedirs(prev_output_path, exist_ok=True)\n",
    "        os.makedirs(curr_output_path, exist_ok=True)\n",
    "\n",
    "        for diff in commit.diff(parent_commit):\n",
    "\n",
    "            file_path = diff.a_path if diff.a_path else diff.b_path\n",
    "\n",
    "            if diff.change_type == 'M' and has_valid_extension(file_path):\n",
    "                save_file_content(parent_commit, file_path, prev_output_path)\n",
    "                save_file_content(commit, file_path, curr_output_path)\n",
    "            else:\n",
    "                shutil.rmtree(commit_output_path)\n",
    "                break\n",
    "            \n",
    "    except Exception as e:\n",
    "        print(f\"Error processing hash {currhash}: {e}\")"
   ]
  },
  {
   "cell_type": "markdown",
   "id": "592c9304",
   "metadata": {},
   "source": [
    "# Run the script to analyze the collected data using PVS-Studio"
   ]
  },
  {
   "cell_type": "markdown",
   "id": "dd9d4819",
   "metadata": {},
   "source": [
    "- pvs — Path to the executable jar file PVS-Studio.\n",
    "- dir — Path to the directory containing the result of collecting versions of the collected commits.\n",
    "- max-jobs — Number of simultaneously running processes in the background."
   ]
  },
  {
   "cell_type": "code",
   "execution_count": null,
   "id": "147e2132",
   "metadata": {},
   "outputs": [],
   "source": [
    "!./start_analysis.sh --pvs /home/qqushka/pvs-studio-java/7.30.80678/pvs-studio.jar --dir ./result_hash_pairs --max-jobs 2"
   ]
  }
 ],
 "metadata": {
  "kernelspec": {
   "display_name": "Python 3 (ipykernel)",
   "language": "python",
   "name": "python3"
  },
  "language_info": {
   "codemirror_mode": {
    "name": "ipython",
    "version": 3
   },
   "file_extension": ".py",
   "mimetype": "text/x-python",
   "name": "python",
   "nbconvert_exporter": "python",
   "pygments_lexer": "ipython3",
   "version": "3.10.0"
  }
 },
 "nbformat": 4,
 "nbformat_minor": 5
}
