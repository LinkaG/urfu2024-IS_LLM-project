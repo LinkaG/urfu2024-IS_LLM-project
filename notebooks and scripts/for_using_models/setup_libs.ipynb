{
 "cells": [
  {
   "cell_type": "code",
   "execution_count": null,
   "id": "f79ae254-56aa-4e99-85c8-79b5da3c1403",
   "metadata": {},
   "outputs": [],
   "source": [
    "!python.exe -m pip install --upgrade pip"
   ]
  },
  {
   "cell_type": "code",
   "execution_count": null,
   "id": "758ba60e-fcff-4c39-9176-5a9cafb52fca",
   "metadata": {},
   "outputs": [],
   "source": [
    "!pip install --upgrade jupyter ipywidgets"
   ]
  },
  {
   "cell_type": "code",
   "execution_count": null,
   "id": "7ff82844-1a03-4215-8a66-b62892226fad",
   "metadata": {},
   "outputs": [],
   "source": [
    "!pip install --upgrade  pyarrow"
   ]
  },
  {
   "cell_type": "code",
   "execution_count": null,
   "id": "426a709a-f05e-4f2b-a807-a5bc71c48893",
   "metadata": {},
   "outputs": [],
   "source": [
    "!pip install --upgrade  pandas"
   ]
  },
  {
   "cell_type": "code",
   "execution_count": null,
   "id": "782d5f8b-7138-4ba6-bd8d-94b1995748f6",
   "metadata": {},
   "outputs": [],
   "source": [
    "!pip install --upgrade  langchain"
   ]
  },
  {
   "cell_type": "code",
   "execution_count": null,
   "id": "89190d30-8c48-4d8d-b576-004d50814708",
   "metadata": {},
   "outputs": [],
   "source": [
    "!pip install --upgrade  accelerate"
   ]
  },
  {
   "cell_type": "code",
   "execution_count": null,
   "id": "5206eb74-bba9-4ccd-b3eb-d1a4377bb8f9",
   "metadata": {},
   "outputs": [],
   "source": [
    "!pip install -i https://pypi.org/simple/ bitsandbytes"
   ]
  },
  {
   "cell_type": "code",
   "execution_count": null,
   "id": "6c155622-fd5f-4c88-b280-3f3a08516a84",
   "metadata": {},
   "outputs": [],
   "source": [
    "!pip install --upgrade transformers"
   ]
  },
  {
   "cell_type": "code",
   "execution_count": null,
   "id": "3bb52f14-50ba-4321-8324-a531ffa4648b",
   "metadata": {},
   "outputs": [],
   "source": [
    "!pip3 install torch torchvision torchaudio --index-url https://download.pytorch.org/whl/cu118"
   ]
  }
 ],
 "metadata": {
  "kernelspec": {
   "display_name": "Python 3 (ipykernel)",
   "language": "python",
   "name": "python3"
  },
  "language_info": {
   "codemirror_mode": {
    "name": "ipython",
    "version": 3
   },
   "file_extension": ".py",
   "mimetype": "text/x-python",
   "name": "python",
   "nbconvert_exporter": "python",
   "pygments_lexer": "ipython3",
   "version": "3.10.11"
  }
 },
 "nbformat": 4,
 "nbformat_minor": 5
}
